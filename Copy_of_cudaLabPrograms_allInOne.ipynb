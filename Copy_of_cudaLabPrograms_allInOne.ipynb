{
  "nbformat": 4,
  "nbformat_minor": 0,
  "metadata": {
    "colab": {
      "provenance": [],
      "gpuType": "T4"
    },
    "kernelspec": {
      "name": "python3",
      "display_name": "Python 3"
    },
    "language_info": {
      "name": "python"
    },
    "accelerator": "GPU"
  },
  "cells": [
    {
      "cell_type": "code",
      "execution_count": null,
      "metadata": {
        "colab": {
          "base_uri": "https://localhost:8080/"
        },
        "id": "lUiVSEfwO3k3",
        "outputId": "06886ced-9633-42d7-9025-6d39313eb2c0"
      },
      "outputs": [
        {
          "output_type": "stream",
          "name": "stdout",
          "text": [
            "nvcc: NVIDIA (R) Cuda compiler driver\n",
            "Copyright (c) 2005-2023 NVIDIA Corporation\n",
            "Built on Tue_Aug_15_22:02:13_PDT_2023\n",
            "Cuda compilation tools, release 12.2, V12.2.140\n",
            "Build cuda_12.2.r12.2/compiler.33191640_0\n"
          ]
        }
      ],
      "source": [
        "!nvcc --version"
      ]
    },
    {
      "cell_type": "code",
      "source": [
        "!pip install nvcc4jupyter"
      ],
      "metadata": {
        "colab": {
          "base_uri": "https://localhost:8080/"
        },
        "id": "KWpdq10a1fKD",
        "outputId": "413943c7-667c-4694-9c47-fd9503bb4814"
      },
      "execution_count": null,
      "outputs": [
        {
          "output_type": "stream",
          "name": "stdout",
          "text": [
            "Collecting nvcc4jupyter\n",
            "  Downloading nvcc4jupyter-1.2.1-py3-none-any.whl.metadata (5.1 kB)\n",
            "Downloading nvcc4jupyter-1.2.1-py3-none-any.whl (10 kB)\n",
            "Installing collected packages: nvcc4jupyter\n",
            "Successfully installed nvcc4jupyter-1.2.1\n"
          ]
        }
      ]
    },
    {
      "cell_type": "code",
      "source": [
        "%load_ext nvcc4jupyter"
      ],
      "metadata": {
        "colab": {
          "base_uri": "https://localhost:8080/"
        },
        "id": "lUlqQpC51hq8",
        "outputId": "50f8f331-4b03-47fd-b2a3-536c9e0957b4"
      },
      "execution_count": null,
      "outputs": [
        {
          "output_type": "stream",
          "name": "stdout",
          "text": [
            "Detected platform \"Colab\". Running its setup...\n",
            "Source files will be saved in \"/tmp/tmpxqr2k3fu\".\n"
          ]
        }
      ]
    },
    {
      "cell_type": "markdown",
      "source": [
        "# OpenMP"
      ],
      "metadata": {
        "id": "g7Las-wj7tyu"
      }
    },
    {
      "cell_type": "markdown",
      "source": [
        "### 1. Write an OpenMP program to calculate the value of PI using critical section"
      ],
      "metadata": {
        "id": "1xVaQFLW7rNe"
      }
    },
    {
      "cell_type": "code",
      "source": [
        "%%writefile criticalpi.c\n",
        "\n",
        "#include<stdio.h>\n",
        "#include<omp.h>\n",
        "#define n 1000000\n",
        "double step;\n",
        "int main() {\n",
        "    int i;\n",
        "    double x, pi, sum=0.0, start_time, end_time;\n",
        "    start_time=omp_get_wtime();\n",
        "    step=1.0/(double)n;\n",
        "    #pragma omp critical\n",
        "    {\n",
        "        for(i=0;i<n;i++) {\n",
        "            x=(i+0.5)*step;\n",
        "            sum=sum+4.0/(1.0+x*x);\n",
        "        }\n",
        "    }\n",
        "    end_time = omp_get_wtime();\n",
        "    pi = step*sum;\n",
        "    printf(\"Calculated value of PI is %f\\n\", pi);\n",
        "    printf(\"Time taken is %f\\n\", end_time-start_time);\n",
        "    return 0;\n",
        "}"
      ],
      "metadata": {
        "colab": {
          "base_uri": "https://localhost:8080/"
        },
        "id": "z35-3Asz1j2P",
        "outputId": "ca17468e-2c97-454f-bda7-19b3e66c0b7b"
      },
      "execution_count": null,
      "outputs": [
        {
          "output_type": "stream",
          "name": "stdout",
          "text": [
            "Writing criticalpi.c\n"
          ]
        }
      ]
    },
    {
      "cell_type": "code",
      "source": [
        "!gcc -fopenmp criticalpi.c"
      ],
      "metadata": {
        "id": "WRnDRTyo5CZv"
      },
      "execution_count": null,
      "outputs": []
    },
    {
      "cell_type": "code",
      "source": [
        "!./a.out"
      ],
      "metadata": {
        "colab": {
          "base_uri": "https://localhost:8080/"
        },
        "id": "rQo_Wjl47Sd-",
        "outputId": "d4dfa8c7-ddf2-4516-916b-76498735c531"
      },
      "execution_count": null,
      "outputs": [
        {
          "output_type": "stream",
          "name": "stdout",
          "text": [
            "Calculated value of PI is 3.141593\n",
            "Time taken is 0.007671\n"
          ]
        }
      ]
    },
    {
      "cell_type": "code",
      "source": [
        "%%writefile criticalpi2.c\n",
        "\n",
        "#include <omp.h>\n",
        "#include <stdio.h>\n",
        "\n",
        "int main() {\n",
        "    long long num_steps = 100000000;  // Number of iterations for precision\n",
        "    double pi = 0.0;\n",
        "    double step = 1.0 / (double)num_steps;\n",
        "\n",
        "    // Start time measurement\n",
        "    double start_time = omp_get_wtime();\n",
        "\n",
        "    // Start the parallel region\n",
        "    #pragma omp parallel\n",
        "    {\n",
        "        double sum = 0.0;  // Private sum for each thread\n",
        "\n",
        "        // Calculate the local sum for each thread\n",
        "        #pragma omp for\n",
        "        for (long long i = 0; i < num_steps; i++) {\n",
        "            double x = (i + 0.5) * step;\n",
        "            sum += 4.0 / (1.0 + x * x);\n",
        "        }\n",
        "\n",
        "        // Use a critical section to accumulate each thread's sum into pi\n",
        "        #pragma omp critical\n",
        "        {\n",
        "            pi += sum * step;\n",
        "        }\n",
        "    }  // End of parallel region\n",
        "\n",
        "    // End time measurement\n",
        "    double end_time = omp_get_wtime();\n",
        "\n",
        "    // Calculate and print the time taken and the result\n",
        "    printf(\"Calculated value of Pi: %.15f\\n\", pi);\n",
        "    printf(\"Time taken: %f seconds\\n\", end_time - start_time);\n",
        "\n",
        "    return 0;\n",
        "}\n"
      ],
      "metadata": {
        "colab": {
          "base_uri": "https://localhost:8080/"
        },
        "id": "dDZDDy8R9I0Z",
        "outputId": "1afc65ee-4452-41a6-f0bb-1f0a61e0439d"
      },
      "execution_count": null,
      "outputs": [
        {
          "output_type": "stream",
          "name": "stdout",
          "text": [
            "Writing criticalpi2.c\n"
          ]
        }
      ]
    },
    {
      "cell_type": "code",
      "source": [
        "!gcc -fopenmp criticalpi2.c"
      ],
      "metadata": {
        "id": "I7Nndpy69T8P"
      },
      "execution_count": null,
      "outputs": []
    },
    {
      "cell_type": "code",
      "source": [
        "!./a.out"
      ],
      "metadata": {
        "colab": {
          "base_uri": "https://localhost:8080/"
        },
        "id": "3LoK6bau9XrF",
        "outputId": "26610070-1b8b-424b-e2fb-598d793d5528"
      },
      "execution_count": null,
      "outputs": [
        {
          "output_type": "stream",
          "name": "stdout",
          "text": [
            "Calculated value of Pi: 3.141592653589909\n",
            "Time taken: 0.300474 seconds\n"
          ]
        }
      ]
    },
    {
      "cell_type": "markdown",
      "source": [
        "### 2. Write an OpenMP program to print parallel programming environment information"
      ],
      "metadata": {
        "id": "gJ8l4Dch7ytz"
      }
    },
    {
      "cell_type": "code",
      "source": [
        "%%writefile envi_info.c\n",
        "\n",
        "#include <omp.h>\n",
        "#include <stdio.h>\n",
        "#include <stdlib.h>\n",
        "\n",
        "int main(int argc, char *argv[])\n",
        "{\n",
        "    int nthreads, tid, procs, maxt, inpar, dynamic, nested;\n",
        "    #pragma omp parallel private(nthreads, tid)\n",
        "    {\n",
        "    tid = omp_get_thread_num();\n",
        "        if (tid == 0)\n",
        "        {\n",
        "            printf(\"thread %d getting envi info \\n\",tid);\n",
        "            procs = omp_get_num_procs();\n",
        "            nthreads = omp_get_num_threads();\n",
        "            maxt = omp_get_max_threads();\n",
        "            inpar = omp_in_parallel();\n",
        "            dynamic = omp_get_dynamic();\n",
        "            nested = omp_get_nested();\n",
        "\n",
        "            printf(\"Number of processors = %d\\n\", procs);\n",
        "            printf(\"Number of threads = %d\\n\", nthreads);\n",
        "            printf(\"Max threads = %d\\n\", maxt);\n",
        "            printf(\"In Parellel= %d \",inpar);\n",
        "            printf(\"Dynamic = %d\\n\", dynamic);\n",
        "            printf(\"Nested = %d\\n\", nested);\n",
        "        }\n",
        "    }\n",
        "}"
      ],
      "metadata": {
        "colab": {
          "base_uri": "https://localhost:8080/"
        },
        "id": "wlBLyQGr7gQh",
        "outputId": "19688d6a-2de1-45d9-f15a-1c16b49d0ec4"
      },
      "execution_count": null,
      "outputs": [
        {
          "output_type": "stream",
          "name": "stdout",
          "text": [
            "Writing envi_info.c\n"
          ]
        }
      ]
    },
    {
      "cell_type": "code",
      "source": [
        "!gcc -fopenmp envi_info.c"
      ],
      "metadata": {
        "id": "-A_rzEtS8Rup"
      },
      "execution_count": null,
      "outputs": []
    },
    {
      "cell_type": "code",
      "source": [
        "!./a.out"
      ],
      "metadata": {
        "colab": {
          "base_uri": "https://localhost:8080/"
        },
        "id": "tHQDwglB8WIQ",
        "outputId": "0dc12d65-4bed-413f-8bcf-ba6300efe430"
      },
      "execution_count": null,
      "outputs": [
        {
          "output_type": "stream",
          "name": "stdout",
          "text": [
            "thread 0 getting envi info \n",
            "Number of processors = 2\n",
            "Number of threads = 2\n",
            "Max threads = 2\n",
            "In Parellel= 1 Dynamic = 0\n",
            "Nested = 0\n"
          ]
        }
      ]
    },
    {
      "cell_type": "markdown",
      "source": [
        "### 3. Write an OpenMP program to add 2 arrays parallely using dynamic clause"
      ],
      "metadata": {
        "id": "Do9mz9QW8bpi"
      }
    },
    {
      "cell_type": "code",
      "source": [
        "%%writefile dynamic.c\n",
        "\n",
        "#include <stdio.h>\n",
        "#include <omp.h>\n",
        "\n",
        "#define N 10  // Size of the arrays\n",
        "\n",
        "int main() {\n",
        "    int A[N], B[N], C[N];  // Declare arrays A, B, and C\n",
        "    int i;\n",
        "    // Initialize arrays A and B with values\n",
        "    for (i = 0; i < N; i++) {\n",
        "        A[i] = i + 1;\n",
        "        B[i] = (i + 1) * 2;\n",
        "    }\n",
        "\n",
        "    // Perform parallel addition of arrays A and B into C\n",
        "    #pragma omp parallel for shared(A, B, C) schedule(dynamic) private(i)\n",
        "    for (i = 0; i < N; i++) {\n",
        "        C[i] = A[i] + B[i];\n",
        "        printf(\"Thread %d is processing element %d\\n\", omp_get_thread_num(), i);\n",
        "    }\n",
        "\n",
        "    // Verify the result by printing the first few elements\n",
        "    printf(\"First 10 elements of the result array C:\\n\");\n",
        "    for (i = 0; i < 10; i++) {\n",
        "        printf(\"C[%d] = %d\\n\", i, C[i]);\n",
        "    }\n",
        "\n",
        "    return 0;\n",
        "}"
      ],
      "metadata": {
        "colab": {
          "base_uri": "https://localhost:8080/"
        },
        "id": "Fm14mMvL8Yx5",
        "outputId": "876144a4-4b78-404d-d698-734a3e0f133c"
      },
      "execution_count": null,
      "outputs": [
        {
          "output_type": "stream",
          "name": "stdout",
          "text": [
            "Overwriting dynamic.c\n"
          ]
        }
      ]
    },
    {
      "cell_type": "code",
      "source": [
        "!gcc -fopenmp dynamic.c"
      ],
      "metadata": {
        "id": "6yAszZQjAnHi"
      },
      "execution_count": null,
      "outputs": []
    },
    {
      "cell_type": "code",
      "source": [
        "!./a.out"
      ],
      "metadata": {
        "id": "0RJGA0eSArC6",
        "colab": {
          "base_uri": "https://localhost:8080/"
        },
        "outputId": "3563506c-a32a-4eae-bf9a-fbfedc0f7e49"
      },
      "execution_count": null,
      "outputs": [
        {
          "output_type": "stream",
          "name": "stdout",
          "text": [
            "Thread 0 is processing element 0\n",
            "Thread 0 is processing element 2\n",
            "Thread 0 is processing element 3\n",
            "Thread 0 is processing element 4\n",
            "Thread 0 is processing element 5\n",
            "Thread 0 is processing element 6\n",
            "Thread 0 is processing element 7\n",
            "Thread 0 is processing element 8\n",
            "Thread 0 is processing element 9\n",
            "Thread 1 is processing element 1\n",
            "First 10 elements of the result array C:\n",
            "C[0] = 3\n",
            "C[1] = 6\n",
            "C[2] = 9\n",
            "C[3] = 12\n",
            "C[4] = 15\n",
            "C[5] = 18\n",
            "C[6] = 21\n",
            "C[7] = 24\n",
            "C[8] = 27\n",
            "C[9] = 30\n"
          ]
        }
      ]
    },
    {
      "cell_type": "markdown",
      "source": [
        "### 4. Write an OpenMP program to add and multiply 2 arrays with 2 different threads"
      ],
      "metadata": {
        "id": "JPht2yhu9vse"
      }
    },
    {
      "cell_type": "code",
      "source": [
        "%%writefile addmul.c\n",
        "\n",
        "#include <stdio.h>\n",
        "#include <omp.h>\n",
        "\n",
        "#define SIZE 5\n",
        "\n",
        "int main() {\n",
        "    int a[SIZE] = {1,2,3,4,5};\n",
        "    int b[SIZE] = {5,4,3,2,1};\n",
        "    int c[SIZE], d[SIZE];\n",
        "    #pragma omp parallel sections num_threads(2)\n",
        "    {\n",
        "        #pragma omp section\n",
        "        {\n",
        "            int tid = omp_get_thread_num();\n",
        "            printf(\"Addition section executed by thread = %d\\n\", tid);\n",
        "            for(int i=0; i<SIZE; i++) {\n",
        "                c[i] = a[i] + b[i];\n",
        "                printf(\"c[%d] = %d\\n\", i, c[i]);\n",
        "            }\n",
        "        }\n",
        "        #pragma omp section\n",
        "        {\n",
        "            int tid = omp_get_thread_num();\n",
        "            printf(\"Multiplication section executed by thread = %d\\n\", tid);\n",
        "            for(int i=0; i<SIZE; i++) {\n",
        "                d[i] = a[i] * b[i];\n",
        "                printf(\"d[%d] = %d\\n\", i, d[i]);\n",
        "            }\n",
        "        }\n",
        "    }\n",
        "    return 0;\n",
        "}"
      ],
      "metadata": {
        "id": "-9rx1xzCAwdY",
        "colab": {
          "base_uri": "https://localhost:8080/"
        },
        "outputId": "425a0a23-2979-420c-f40e-a715c7fe89bc"
      },
      "execution_count": null,
      "outputs": [
        {
          "output_type": "stream",
          "name": "stdout",
          "text": [
            "Writing addmul.c\n"
          ]
        }
      ]
    },
    {
      "cell_type": "code",
      "source": [
        "!gcc -fopenmp addmul.c"
      ],
      "metadata": {
        "id": "yXatJurW_I_9"
      },
      "execution_count": null,
      "outputs": []
    },
    {
      "cell_type": "code",
      "source": [
        "!./a.out"
      ],
      "metadata": {
        "colab": {
          "base_uri": "https://localhost:8080/"
        },
        "id": "JOnXa255_MBO",
        "outputId": "1622de86-d5ed-4868-8f40-4b0cc58d9289"
      },
      "execution_count": null,
      "outputs": [
        {
          "output_type": "stream",
          "name": "stdout",
          "text": [
            "Addition section executed by thread = 1\n",
            "c[0] = 6\n",
            "c[1] = 6\n",
            "c[2] = 6\n",
            "c[3] = 6\n",
            "c[4] = 6\n",
            "Multiplication section executed by thread = 0\n",
            "d[0] = 5\n",
            "d[1] = 8\n",
            "d[2] = 9\n",
            "d[3] = 8\n",
            "d[4] = 5\n"
          ]
        }
      ]
    },
    {
      "cell_type": "markdown",
      "source": [
        "### 5. Write an OpenMP program to perform matrix multiplication"
      ],
      "metadata": {
        "id": "OBlXDqxv_f12"
      }
    },
    {
      "cell_type": "code",
      "source": [
        "%%writefile openmp_mul.c\n",
        "\n",
        "#include <stdio.h>\n",
        "#include <omp.h>\n",
        "#include <stdlib.h>\n",
        "\n",
        "#define NRA 62\n",
        "#define NCA 15\n",
        "#define NCB 7\n",
        "\n",
        "int main(int argc, char* argv[]){\n",
        "    int tid, nthreads, i, j, k, chunk;\n",
        "    double a[NRA][NCA], b[NCA][NCB], c[NRA][NCB];\n",
        "    chunk = 10;\n",
        "    #pragma omp parallel shared(a,b,c,nthreads,chunk) private(tid, i, j, k)\n",
        "    tid = omp_get_thread_num();\n",
        "    if (tid == 0)\n",
        "    {\n",
        "        nthreads = omp_get_num_threads();\n",
        "        printf(\"Starting matrix multiplication example with %d threads\\n\", nthreads);\n",
        "        printf(\"Initializing matrices...\\n\");\n",
        "    }\n",
        "    #pragma omp for schedule(static, chunk)\n",
        "    for (i=0; i<NRA; i++)\n",
        "        for (j=0; j<NCA; j++)\n",
        "            a[i][j]= i+j;\n",
        "    #pragma omp for schedule(static, chunk)\n",
        "    for (i=0; i<NCA; i++)\n",
        "        for (j=0; j<NCB; j++)\n",
        "            b[i][j]= i*j;\n",
        "    #pragma omp for schedule(static, chunk)\n",
        "    for (i=0; i<NRA; i++)\n",
        "        for (j=0; j<NCB; j++)\n",
        "            c[i][j]= 0;\n",
        "    printf(\"Thread %d starting matrix multiplication\\n\", tid);\n",
        "    #pragma omp for schedule(static, chunk)\n",
        "    for(i=0; i<NRA; i++){\n",
        "        printf(\"Thread %d did row = %d\\n\", tid, i);\n",
        "        for(j=0; j<NCB; j++){\n",
        "            for(k=0; k<NCA; k++){\n",
        "                c[i][j] += a[i][k]*b[k][j];\n",
        "            }\n",
        "        }\n",
        "    }\n",
        "    printf(\"Thread %d done. Result matrix:\\n\", tid);\n",
        "    for(i=0; i<NRA; i++){\n",
        "        for(j=0; j<NCB; j++){\n",
        "            printf(\"%6.2f\", c[i][j]);\n",
        "        }\n",
        "        printf(\"\\n\");\n",
        "    }\n",
        "    return 0;\n",
        "}"
      ],
      "metadata": {
        "colab": {
          "base_uri": "https://localhost:8080/"
        },
        "id": "fnohMJIf_lFw",
        "outputId": "862ac872-f4b8-4919-e656-49015d6c7e9a"
      },
      "execution_count": null,
      "outputs": [
        {
          "output_type": "stream",
          "name": "stdout",
          "text": [
            "Overwriting openmp_mul.c\n"
          ]
        }
      ]
    },
    {
      "cell_type": "code",
      "source": [
        "!gcc -fopenmp openmp_mul.c"
      ],
      "metadata": {
        "id": "qIcfE9I9fxdi"
      },
      "execution_count": null,
      "outputs": []
    },
    {
      "cell_type": "code",
      "source": [
        "!./a.out"
      ],
      "metadata": {
        "colab": {
          "base_uri": "https://localhost:8080/"
        },
        "id": "H1DPuslAf1L9",
        "outputId": "362384cf-fc6f-434c-83f2-ea5ca5fdccbb"
      },
      "execution_count": null,
      "outputs": [
        {
          "output_type": "stream",
          "name": "stdout",
          "text": [
            "Starting matrix multiplication example with 1 threads\n",
            "Initializing matrices...\n",
            "Thread 0 starting matrix multiplication\n",
            "Thread 0 did row = 0\n",
            "Thread 0 did row = 1\n",
            "Thread 0 did row = 2\n",
            "Thread 0 did row = 3\n",
            "Thread 0 did row = 4\n",
            "Thread 0 did row = 5\n",
            "Thread 0 did row = 6\n",
            "Thread 0 did row = 7\n",
            "Thread 0 did row = 8\n",
            "Thread 0 did row = 9\n",
            "Thread 0 did row = 10\n",
            "Thread 0 did row = 11\n",
            "Thread 0 did row = 12\n",
            "Thread 0 did row = 13\n",
            "Thread 0 did row = 14\n",
            "Thread 0 did row = 15\n",
            "Thread 0 did row = 16\n",
            "Thread 0 did row = 17\n",
            "Thread 0 did row = 18\n",
            "Thread 0 did row = 19\n",
            "Thread 0 did row = 20\n",
            "Thread 0 did row = 21\n",
            "Thread 0 did row = 22\n",
            "Thread 0 did row = 23\n",
            "Thread 0 did row = 24\n",
            "Thread 0 did row = 25\n",
            "Thread 0 did row = 26\n",
            "Thread 0 did row = 27\n",
            "Thread 0 did row = 28\n",
            "Thread 0 did row = 29\n",
            "Thread 0 did row = 30\n",
            "Thread 0 did row = 31\n",
            "Thread 0 did row = 32\n",
            "Thread 0 did row = 33\n",
            "Thread 0 did row = 34\n",
            "Thread 0 did row = 35\n",
            "Thread 0 did row = 36\n",
            "Thread 0 did row = 37\n",
            "Thread 0 did row = 38\n",
            "Thread 0 did row = 39\n",
            "Thread 0 did row = 40\n",
            "Thread 0 did row = 41\n",
            "Thread 0 did row = 42\n",
            "Thread 0 did row = 43\n",
            "Thread 0 did row = 44\n",
            "Thread 0 did row = 45\n",
            "Thread 0 did row = 46\n",
            "Thread 0 did row = 47\n",
            "Thread 0 did row = 48\n",
            "Thread 0 did row = 49\n",
            "Thread 0 did row = 50\n",
            "Thread 0 did row = 51\n",
            "Thread 0 did row = 52\n",
            "Thread 0 did row = 53\n",
            "Thread 0 did row = 54\n",
            "Thread 0 did row = 55\n",
            "Thread 0 did row = 56\n",
            "Thread 0 did row = 57\n",
            "Thread 0 did row = 58\n",
            "Thread 0 did row = 59\n",
            "Thread 0 did row = 60\n",
            "Thread 0 did row = 61\n",
            "Thread 0 done. Result matrix:\n",
            "  0.001015.002030.003045.004060.005075.006090.00\n",
            "  0.001120.002240.003360.004480.005600.006720.00\n",
            "  0.001225.002450.003675.004900.006125.007350.00\n",
            "  0.001330.002660.003990.005320.006650.007980.00\n",
            "  0.001435.002870.004305.005740.007175.008610.00\n",
            "  0.001540.003080.004620.006160.007700.009240.00\n",
            "  0.001645.003290.004935.006580.008225.009870.00\n",
            "  0.001750.003500.005250.007000.008750.0010500.00\n",
            "  0.001855.003710.005565.007420.009275.0011130.00\n",
            "  0.001960.003920.005880.007840.009800.0011760.00\n",
            "  0.002065.004130.006195.008260.0010325.0012390.00\n",
            "  0.002170.004340.006510.008680.0010850.0013020.00\n",
            "  0.002275.004550.006825.009100.0011375.0013650.00\n",
            "  0.002380.004760.007140.009520.0011900.0014280.00\n",
            "  0.002485.004970.007455.009940.0012425.0014910.00\n",
            "  0.002590.005180.007770.0010360.0012950.0015540.00\n",
            "  0.002695.005390.008085.0010780.0013475.0016170.00\n",
            "  0.002800.005600.008400.0011200.0014000.0016800.00\n",
            "  0.002905.005810.008715.0011620.0014525.0017430.00\n",
            "  0.003010.006020.009030.0012040.0015050.0018060.00\n",
            "  0.003115.006230.009345.0012460.0015575.0018690.00\n",
            "  0.003220.006440.009660.0012880.0016100.0019320.00\n",
            "  0.003325.006650.009975.0013300.0016625.0019950.00\n",
            "  0.003430.006860.0010290.0013720.0017150.0020580.00\n",
            "  0.003535.007070.0010605.0014140.0017675.0021210.00\n",
            "  0.003640.007280.0010920.0014560.0018200.0021840.00\n",
            "  0.003745.007490.0011235.0014980.0018725.0022470.00\n",
            "  0.003850.007700.0011550.0015400.0019250.0023100.00\n",
            "  0.003955.007910.0011865.0015820.0019775.0023730.00\n",
            "  0.004060.008120.0012180.0016240.0020300.0024360.00\n",
            "  0.004165.008330.0012495.0016660.0020825.0024990.00\n",
            "  0.004270.008540.0012810.0017080.0021350.0025620.00\n",
            "  0.004375.008750.0013125.0017500.0021875.0026250.00\n",
            "  0.004480.008960.0013440.0017920.0022400.0026880.00\n",
            "  0.004585.009170.0013755.0018340.0022925.0027510.00\n",
            "  0.004690.009380.0014070.0018760.0023450.0028140.00\n",
            "  0.004795.009590.0014385.0019180.0023975.0028770.00\n",
            "  0.004900.009800.0014700.0019600.0024500.0029400.00\n",
            "  0.005005.0010010.0015015.0020020.0025025.0030030.00\n",
            "  0.005110.0010220.0015330.0020440.0025550.0030660.00\n",
            "  0.005215.0010430.0015645.0020860.0026075.0031290.00\n",
            "  0.005320.0010640.0015960.0021280.0026600.0031920.00\n",
            "  0.005425.0010850.0016275.0021700.0027125.0032550.00\n",
            "  0.005530.0011060.0016590.0022120.0027650.0033180.00\n",
            "  0.005635.0011270.0016905.0022540.0028175.0033810.00\n",
            "  0.005740.0011480.0017220.0022960.0028700.0034440.00\n",
            "  0.005845.0011690.0017535.0023380.0029225.0035070.00\n",
            "  0.005950.0011900.0017850.0023800.0029750.0035700.00\n",
            "  0.006055.0012110.0018165.0024220.0030275.0036330.00\n",
            "  0.006160.0012320.0018480.0024640.0030800.0036960.00\n",
            "  0.006265.0012530.0018795.0025060.0031325.0037590.00\n",
            "  0.006370.0012740.0019110.0025480.0031850.0038220.00\n",
            "  0.006475.0012950.0019425.0025900.0032375.0038850.00\n",
            "  0.006580.0013160.0019740.0026320.0032900.0039480.00\n",
            "  0.006685.0013370.0020055.0026740.0033425.0040110.00\n",
            "  0.006790.0013580.0020370.0027160.0033950.0040740.00\n",
            "  0.006895.0013790.0020685.0027580.0034475.0041370.00\n",
            "  0.007000.0014000.0021000.0028000.0035000.0042000.00\n",
            "  0.007105.0014210.0021315.0028420.0035525.0042630.00\n",
            "  0.007210.0014420.0021630.0028840.0036050.0043260.00\n",
            "  0.007315.0014630.0021945.0029260.0036575.0043890.00\n",
            "  0.007420.0014840.0022260.0029680.0037100.0044520.00\n"
          ]
        }
      ]
    },
    {
      "cell_type": "markdown",
      "source": [
        "### 6. Write an OpenMP program to demonstrate first private clause"
      ],
      "metadata": {
        "id": "C1upAQF1gNyh"
      }
    },
    {
      "cell_type": "code",
      "source": [
        "%%writefile firstpvt.c\n",
        "\n",
        "#include <omp.h>\n",
        "#include <stdio.h>\n",
        "\n",
        "int main() {\n",
        "    int x = 10;  // Shared variable\n",
        "    int result = 0;  // Variable to accumulate results\n",
        "\n",
        "    printf(\"Initial value of x: %d\\n\", x);\n",
        "\n",
        "    // Parallel region\n",
        "    #pragma omp parallel firstprivate(x)\n",
        "    {\n",
        "        int tid = omp_get_thread_num();  // Thread ID\n",
        "        x += tid;  // Each thread modifies its private copy of x\n",
        "        printf(\"Thread %d: x = %d\\n\", tid, x);\n",
        "\n",
        "        // Use reduction to safely sum results\n",
        "        #pragma omp critical\n",
        "        {\n",
        "            result += x;  // Accumulate private x values into shared result\n",
        "        }\n",
        "    }\n",
        "\n",
        "    printf(\"Final accumulated result: %d\\n\", result);\n",
        "    return 0;\n",
        "}"
      ],
      "metadata": {
        "colab": {
          "base_uri": "https://localhost:8080/"
        },
        "id": "n987IIbUf3s6",
        "outputId": "e523c03e-3c65-405b-a5de-5b5243a04b06"
      },
      "execution_count": null,
      "outputs": [
        {
          "output_type": "stream",
          "name": "stdout",
          "text": [
            "Writing firstpvt.c\n"
          ]
        }
      ]
    },
    {
      "cell_type": "code",
      "source": [
        "!gcc -fopenmp firstpvt.c"
      ],
      "metadata": {
        "id": "M3aXNfFxg80c"
      },
      "execution_count": null,
      "outputs": []
    },
    {
      "cell_type": "code",
      "source": [
        "!./a.out"
      ],
      "metadata": {
        "colab": {
          "base_uri": "https://localhost:8080/"
        },
        "id": "wlbqgybmhGxK",
        "outputId": "7e0248b1-5b54-44c2-b40d-00f7ee0031e6"
      },
      "execution_count": null,
      "outputs": [
        {
          "output_type": "stream",
          "name": "stdout",
          "text": [
            "Initial value of x: 10\n",
            "Thread 0: x = 10\n",
            "Thread 1: x = 11\n",
            "Final accumulated result: 21\n"
          ]
        }
      ]
    },
    {
      "cell_type": "markdown",
      "source": [
        "### 7. Write an OpenMP program to add all the numbers in a vector by demonstrating the use of the reduction clause."
      ],
      "metadata": {
        "id": "HkhMVBzY4O3Y"
      }
    },
    {
      "cell_type": "code",
      "source": [
        "%%writefile reduction.c\n",
        "\n",
        "#include <stdio.h>\n",
        "#include <omp.h>\n",
        "\n",
        "int main() {\n",
        "    int i;\n",
        "    int vector[10] = {1, 2, 3, 4, 5, 6, 7, 8, 9, 10};\n",
        "    int sum = 0;\n",
        "\n",
        "    #pragma omp parallel for reduction(+:sum)\n",
        "    for (i = 0; i < 10; i++) {\n",
        "        sum += vector[i];\n",
        "    }\n",
        "\n",
        "    printf(\"Sum of vector elements: %d\\n\", sum);\n",
        "\n",
        "    return 0;\n",
        "}"
      ],
      "metadata": {
        "colab": {
          "base_uri": "https://localhost:8080/"
        },
        "id": "vMLeE1D54Rua",
        "outputId": "cd7f3465-9d04-468b-ecb6-38dcf522c774"
      },
      "execution_count": null,
      "outputs": [
        {
          "output_type": "stream",
          "name": "stdout",
          "text": [
            "Writing reduction.c\n"
          ]
        }
      ]
    },
    {
      "cell_type": "code",
      "source": [
        "!gcc -fopenmp reduction.c"
      ],
      "metadata": {
        "id": "8nYwS48M4ZFF"
      },
      "execution_count": null,
      "outputs": []
    },
    {
      "cell_type": "code",
      "source": [
        "!./a.out"
      ],
      "metadata": {
        "colab": {
          "base_uri": "https://localhost:8080/"
        },
        "id": "ki2bpbeM4baY",
        "outputId": "faa2d197-705a-4365-ab2b-4f876f0ef2f2"
      },
      "execution_count": null,
      "outputs": [
        {
          "output_type": "stream",
          "name": "stdout",
          "text": [
            "Sum of vector elements: 55\n"
          ]
        }
      ]
    },
    {
      "cell_type": "markdown",
      "source": [
        "# CUDA"
      ],
      "metadata": {
        "id": "lrv_5U-dhd80"
      }
    },
    {
      "cell_type": "markdown",
      "source": [
        "### Write a CUDA program to add 2 numbers"
      ],
      "metadata": {
        "id": "rDg9bQEkhiKk"
      }
    },
    {
      "cell_type": "code",
      "source": [
        "%%cuda\n",
        "\n",
        "#include <stdio.h>\n",
        "\n",
        "// CUDA kernel to add two numbers\n",
        "__global__ void addNumbers(int *a, int *b, int *c) {\n",
        "    *c = *a + *b; // Add the two numbers\n",
        "}\n",
        "\n",
        "int main() {\n",
        "    int a = 5, b = 7; // Numbers to add\n",
        "    int c;            // Result of addition\n",
        "\n",
        "    int *d_a, *d_b, *d_c; // Device pointers\n",
        "\n",
        "    // Allocate memory on the device (GPU)\n",
        "    cudaMalloc((void **)&d_a, sizeof(int));\n",
        "    cudaMalloc((void **)&d_b, sizeof(int));\n",
        "    cudaMalloc((void **)&d_c, sizeof(int));\n",
        "\n",
        "    // Check if memory allocation was successful\n",
        "    if (d_a == NULL || d_b == NULL || d_c == NULL) {\n",
        "        printf(\"Failed to allocate device memory.\\n\");\n",
        "        return -1;\n",
        "    }\n",
        "\n",
        "    // Copy input data from host to device\n",
        "    cudaMemcpy(d_a, &a, sizeof(int), cudaMemcpyHostToDevice);\n",
        "    cudaMemcpy(d_b, &b, sizeof(int), cudaMemcpyHostToDevice);\n",
        "\n",
        "    // Launch the kernel (1 block, 1 thread)\n",
        "    addNumbers<<<1, 1>>>(d_a, d_b, d_c);\n",
        "\n",
        "    // Synchronize device to ensure kernel execution completes\n",
        "    cudaDeviceSynchronize();\n",
        "\n",
        "    // Copy the result from device to host\n",
        "    cudaMemcpy(&c, d_c, sizeof(int), cudaMemcpyDeviceToHost);\n",
        "\n",
        "    // Print the result\n",
        "    printf(\"The sum of %d and %d is %d\\n\", a, b, c);\n",
        "\n",
        "    // Free device memory\n",
        "    cudaFree(d_a);\n",
        "    cudaFree(d_b);\n",
        "    cudaFree(d_c);\n",
        "\n",
        "    return 0;\n",
        "}\n"
      ],
      "metadata": {
        "colab": {
          "base_uri": "https://localhost:8080/"
        },
        "id": "fn1OJoKAhIaU",
        "outputId": "089ee753-9a38-4767-f962-ad9f27ab90ac"
      },
      "execution_count": null,
      "outputs": [
        {
          "output_type": "stream",
          "name": "stdout",
          "text": [
            "The sum of 5 and 7 is 12\n",
            "\n"
          ]
        }
      ]
    },
    {
      "cell_type": "markdown",
      "source": [
        "### Write a CUDA program to perform vector addition"
      ],
      "metadata": {
        "id": "-vkBZiYUsLzt"
      }
    },
    {
      "cell_type": "code",
      "source": [
        "%%cuda\n",
        "\n",
        "#include <stdio.h>\n",
        "#include <cuda_runtime.h>\n",
        "#define SIZE 64\n",
        "\n",
        "__global__ void addVector(int *a, int *b, int *c) {\n",
        "    int tid = blockIdx.x * blockDim.x + threadIdx.x;\n",
        "    if (tid < SIZE) {\n",
        "        c[tid] = a[tid] + b[tid];\n",
        "    }\n",
        "}\n",
        "\n",
        "void randomNumberAssigner(int *array, int size) {\n",
        "    for (int i = 0; i < size; i++) {\n",
        "        array[i] = rand() % 100;\n",
        "    }\n",
        "}\n",
        "\n",
        "int main() {\n",
        "    int *a, *b, *c;\n",
        "    int *d_a, *d_b, *d_c;\n",
        "    printf(\"In main function\\n\");\n",
        "    a = (int*) malloc(SIZE * sizeof(int));\n",
        "    b = (int*) malloc(SIZE * sizeof(int));\n",
        "    c = (int*) malloc(SIZE * sizeof(int));\n",
        "    randomNumberAssigner(a, SIZE);\n",
        "    randomNumberAssigner(b, SIZE);\n",
        "    cudaMalloc((void**) &d_a, SIZE * sizeof(int));\n",
        "    cudaMalloc((void**) &d_b, SIZE * sizeof(int));\n",
        "    cudaMalloc((void**) &d_c, SIZE * sizeof(int));\n",
        "    cudaMemcpy(d_a, a, SIZE * sizeof(int), cudaMemcpyHostToDevice);\n",
        "    cudaMemcpy(d_b, b, SIZE * sizeof(int), cudaMemcpyHostToDevice);\n",
        "    addVector<<<2,32>>>(d_a, d_b, d_c);\n",
        "    cudaMemcpy(c, d_c, SIZE * sizeof(int), cudaMemcpyDeviceToHost);\n",
        "    for (int i = 0; i < SIZE; i++) {\n",
        "        printf(\"%d + %d = %d\\n\", a[i], b[i], c[i]);\n",
        "    }\n",
        "    cudaFree(d_a);\n",
        "    cudaFree(d_b);\n",
        "    cudaFree(d_c);\n",
        "    free(a);\n",
        "    free(b);\n",
        "    free(c);\n",
        "    return 0;\n",
        "}"
      ],
      "metadata": {
        "colab": {
          "base_uri": "https://localhost:8080/"
        },
        "collapsed": true,
        "id": "XZFZmY5bTqfg",
        "outputId": "6c0f7613-edd4-4d94-c3c2-22a4132e8019"
      },
      "execution_count": null,
      "outputs": [
        {
          "output_type": "stream",
          "name": "stdout",
          "text": [
            "In main function\n",
            "83 + 36 = 119\n",
            "86 + 5 = 91\n",
            "77 + 46 = 123\n",
            "15 + 29 = 44\n",
            "93 + 13 = 106\n",
            "35 + 57 = 92\n",
            "86 + 24 = 110\n",
            "92 + 95 = 187\n",
            "49 + 82 = 131\n",
            "21 + 45 = 66\n",
            "62 + 14 = 76\n",
            "27 + 67 = 94\n",
            "90 + 34 = 124\n",
            "59 + 64 = 123\n",
            "63 + 43 = 106\n",
            "26 + 50 = 76\n",
            "40 + 87 = 127\n",
            "26 + 8 = 34\n",
            "72 + 76 = 148\n",
            "36 + 78 = 114\n",
            "11 + 88 = 99\n",
            "68 + 84 = 152\n",
            "67 + 3 = 70\n",
            "29 + 51 = 80\n",
            "82 + 54 = 136\n",
            "30 + 99 = 129\n",
            "62 + 32 = 94\n",
            "23 + 60 = 83\n",
            "67 + 76 = 143\n",
            "35 + 68 = 103\n",
            "29 + 39 = 68\n",
            "2 + 12 = 14\n",
            "22 + 26 = 48\n",
            "58 + 86 = 144\n",
            "69 + 94 = 163\n",
            "67 + 39 = 106\n",
            "93 + 95 = 188\n",
            "56 + 70 = 126\n",
            "11 + 34 = 45\n",
            "42 + 78 = 120\n",
            "29 + 67 = 96\n",
            "73 + 1 = 74\n",
            "21 + 97 = 118\n",
            "19 + 2 = 21\n",
            "84 + 17 = 101\n",
            "37 + 92 = 129\n",
            "98 + 52 = 150\n",
            "24 + 56 = 80\n",
            "15 + 1 = 16\n",
            "70 + 80 = 150\n",
            "13 + 86 = 99\n",
            "26 + 41 = 67\n",
            "91 + 65 = 156\n",
            "80 + 89 = 169\n",
            "56 + 44 = 100\n",
            "73 + 19 = 92\n",
            "62 + 40 = 102\n",
            "70 + 29 = 99\n",
            "96 + 31 = 127\n",
            "81 + 17 = 98\n",
            "5 + 97 = 102\n",
            "25 + 71 = 96\n",
            "84 + 81 = 165\n",
            "27 + 75 = 102\n",
            "\n"
          ]
        }
      ]
    },
    {
      "cell_type": "markdown",
      "source": [
        "### Write a program to perform matrix addition"
      ],
      "metadata": {
        "id": "aIWA2CK1tBEs"
      }
    },
    {
      "cell_type": "code",
      "source": [
        "%%cuda\n",
        "\n",
        "#include <stdio.h>\n",
        "#include <cuda_runtime.h>\n",
        "#define ROW 10\n",
        "#define COL 10\n",
        "\n",
        "__global__ void addMatrix(int *a, int *b, int *c) {\n",
        "    int row = blockIdx.y * blockDim.y + threadIdx.y;\n",
        "    int col = blockIdx.x * blockDim.x + threadIdx.x;\n",
        "    if (row < ROW && col < COL) {\n",
        "        c[row * COL + col] = a[row * COL + col] + b[row * COL + col];\n",
        "    }\n",
        "}\n",
        "void randomNumberAssigner(int *array, int size) {\n",
        "    for (int i = 0; i < size; i++) {\n",
        "        array[i] = rand() % 10;\n",
        "    }\n",
        "}\n",
        "\n",
        "int main() {\n",
        "    int *a, *b, *c;\n",
        "    int *d_a, *d_b, *d_c;\n",
        "    int size = ROW * COL;\n",
        "    printf(\"In main function\\n\");\n",
        "    a = (int*) malloc(size * sizeof(int));\n",
        "    b = (int*) malloc(size * sizeof(int));\n",
        "    c = (int*) malloc(size * sizeof(int));\n",
        "    randomNumberAssigner(a, size);\n",
        "    randomNumberAssigner(b, size);\n",
        "    cudaMalloc((void**) &d_a, size * sizeof(int));\n",
        "    cudaMalloc((void**) &d_b, size * sizeof(int));\n",
        "    cudaMalloc((void**) &d_c, size * sizeof(int));\n",
        "    cudaMemcpy(d_a, a, size * sizeof(int), cudaMemcpyHostToDevice);\n",
        "    cudaMemcpy(d_b, b, size * sizeof(int), cudaMemcpyHostToDevice);\n",
        "    dim3 threadsPerBlock(COL, ROW);\n",
        "    dim3 numBlocks(1,1);\n",
        "    // int tbp = 64, nb = ((ROW*COL)+tbp-1)/tbp;\n",
        "    addMatrix<<<threadsPerBlock, numBlocks>>>(d_a, d_b, d_c);\n",
        "    cudaMemcpy(c, d_c, size * sizeof(int), cudaMemcpyDeviceToHost);\n",
        "        printf(\"Matrix A:\\n\");\n",
        "        for (int i = 0; i < ROW; i++) {\n",
        "          for(int j = 0; j < COL; j++)\n",
        "            printf(\"%d\\t\", a[i*COL+j]);\n",
        "          printf(\"\\n\");\n",
        "        }\n",
        "        printf(\"Matrix B:\\n\");\n",
        "        for (int i = 0; i < ROW; i++) {\n",
        "          for(int j = 0; j < COL; j++)\n",
        "            printf(\"%d\\t\", b[i*COL+j]);\n",
        "          printf(\"\\n\");\n",
        "        }\n",
        "        printf(\"Matrix C:\\n\");\n",
        "        for (int i = 0; i < ROW; i++) {\n",
        "            for (int j = 0; j < COL; j++)\n",
        "                printf(\"%d\\t\", c[i*COL+j]);\n",
        "            printf(\"\\n\");\n",
        "        }\n",
        "    cudaFree(d_a);\n",
        "    cudaFree(d_b);\n",
        "    cudaFree(d_c);\n",
        "    free(a);\n",
        "    free(b);\n",
        "    free(c);\n",
        "    return 0;\n",
        "}"
      ],
      "metadata": {
        "colab": {
          "base_uri": "https://localhost:8080/"
        },
        "id": "Hr70RWpmSqfR",
        "outputId": "7ea71c31-06f2-4fce-8921-50a7acf48a38"
      },
      "execution_count": null,
      "outputs": [
        {
          "output_type": "stream",
          "name": "stdout",
          "text": [
            "In main function\n",
            "Matrix A:\n",
            "3\t6\t7\t5\t3\t5\t6\t2\t9\t1\t\n",
            "2\t7\t0\t9\t3\t6\t0\t6\t2\t6\t\n",
            "1\t8\t7\t9\t2\t0\t2\t3\t7\t5\t\n",
            "9\t2\t2\t8\t9\t7\t3\t6\t1\t2\t\n",
            "9\t3\t1\t9\t4\t7\t8\t4\t5\t0\t\n",
            "3\t6\t1\t0\t6\t3\t2\t0\t6\t1\t\n",
            "5\t5\t4\t7\t6\t5\t6\t9\t3\t7\t\n",
            "4\t5\t2\t5\t4\t7\t4\t4\t3\t0\t\n",
            "7\t8\t6\t8\t8\t4\t3\t1\t4\t9\t\n",
            "2\t0\t6\t8\t9\t2\t6\t6\t4\t9\t\n",
            "Matrix B:\n",
            "5\t0\t4\t8\t7\t1\t7\t2\t7\t2\t\n",
            "2\t6\t1\t0\t6\t1\t5\t9\t4\t9\t\n",
            "0\t9\t1\t7\t7\t1\t1\t5\t9\t7\t\n",
            "7\t6\t7\t3\t6\t5\t6\t3\t9\t4\t\n",
            "8\t1\t2\t9\t3\t9\t0\t8\t8\t5\t\n",
            "0\t9\t6\t3\t8\t5\t6\t1\t1\t5\t\n",
            "9\t8\t4\t8\t1\t0\t3\t0\t4\t4\t\n",
            "4\t4\t7\t6\t3\t1\t7\t5\t9\t6\t\n",
            "2\t1\t7\t8\t5\t7\t4\t1\t8\t5\t\n",
            "9\t7\t5\t3\t8\t8\t3\t1\t8\t9\t\n",
            "Matrix C:\n",
            "8\t6\t11\t13\t10\t6\t13\t4\t16\t3\t\n",
            "4\t13\t1\t9\t9\t7\t5\t15\t6\t15\t\n",
            "1\t17\t8\t16\t9\t1\t3\t8\t16\t12\t\n",
            "16\t8\t9\t11\t15\t12\t9\t9\t10\t6\t\n",
            "17\t4\t3\t18\t7\t16\t8\t12\t13\t5\t\n",
            "3\t15\t7\t3\t14\t8\t8\t1\t7\t6\t\n",
            "14\t13\t8\t15\t7\t5\t9\t9\t7\t11\t\n",
            "8\t9\t9\t11\t7\t8\t11\t9\t12\t6\t\n",
            "9\t9\t13\t16\t13\t11\t7\t2\t12\t14\t\n",
            "11\t7\t11\t11\t17\t10\t9\t7\t12\t18\t\n",
            "\n"
          ]
        }
      ]
    },
    {
      "cell_type": "markdown",
      "source": [
        "### Write a CUDA program to perform matrix multiplication."
      ],
      "metadata": {
        "id": "u7GGAYSXumhM"
      }
    },
    {
      "cell_type": "code",
      "source": [
        "%%cuda\n",
        "#include <stdio.h>\n",
        "#include <cuda_runtime.h>\n",
        "#define ROW_A 10\n",
        "#define COL_A 5\n",
        "#define ROW_B COL_A\n",
        "#define COL_B 8\n",
        "__global__ void matrixMul(int *a, int *b, int *c) {\n",
        "    int row = blockIdx.y * blockDim.y + threadIdx.y;\n",
        "    int col = blockIdx.x * blockDim.x + threadIdx.x;\n",
        "    if (row < ROW_A && col < COL_B) {\n",
        "        int sum = 0;\n",
        "        for (int k = 0; k < COL_A; k++) {\n",
        "            sum += a[row * COL_A + k] * b[k * COL_B + col];\n",
        "        }\n",
        "        c[row * COL_B + col] = sum;\n",
        "    }\n",
        "}\n",
        "void randomNumberAssigner(int *array, int size) {\n",
        "    for (int i = 0; i < size; i++) {\n",
        "        array[i] = rand() % 10;\n",
        "    }\n",
        "}\n",
        "int main() {\n",
        "    int *a, *b, *c;\n",
        "    int *d_a, *d_b, *d_c;\n",
        "    int size_a = ROW_A * COL_A;\n",
        "    int size_b = ROW_B * COL_B;\n",
        "    int size_c = ROW_A * COL_B;\n",
        "    printf(\"In main function\\n\");\n",
        "    a = (int*) malloc(size_a * sizeof(int));\n",
        "    b = (int*) malloc(size_b * sizeof(int));\n",
        "    c = (int*) malloc(size_c * sizeof(int));\n",
        "    randomNumberAssigner(a, size_a);\n",
        "    randomNumberAssigner(b, size_b);\n",
        "    cudaMalloc((void**) &d_a, size_a * sizeof(int));\n",
        "    cudaMalloc((void**) &d_b, size_b * sizeof(int));\n",
        "    cudaMalloc((void**) &d_c, size_c * sizeof(int));\n",
        "    cudaMemcpy(d_a, a, size_a * sizeof(int), cudaMemcpyHostToDevice);\n",
        "    cudaMemcpy(d_b, b, size_b * sizeof(int), cudaMemcpyHostToDevice);\n",
        "    //dim3 threadsPerBlock(COL, ROW);\n",
        "    //dim3 numBlocks(1,1);\n",
        "    int tbp = 32;\n",
        "    dim3 threadsPerBlock(tbp, tbp);\n",
        "    dim3 numBlocks((COL_B+threadsPerBlock.x-1)/threadsPerBlock.x, (ROW_A+threadsPerBlock.y-1)/threadsPerBlock.y);\n",
        "    matrixMul<<<numBlocks, threadsPerBlock>>>(d_a, d_b, d_c);\n",
        "    cudaMemcpy(c, d_c, size_c * sizeof(int), cudaMemcpyDeviceToHost);\n",
        "        printf(\"Matrix A:\\n\");\n",
        "        for (int i = 0; i < ROW_A; i++) {\n",
        "          for(int j = 0; j < COL_A; j++)\n",
        "            printf(\"%d\\t\", a[i*COL_A+j]);\n",
        "          printf(\"\\n\");\n",
        "        }\n",
        "        printf(\"Matrix B:\\n\");\n",
        "        for (int i = 0; i < ROW_B; i++) {\n",
        "          for(int j = 0; j < COL_B; j++)\n",
        "            printf(\"%d\\t\", b[i*COL_B+j]);\n",
        "          printf(\"\\n\");\n",
        "        }\n",
        "        printf(\"Matrix C:\\n\");\n",
        "        for (int i = 0; i < ROW_A; i++) {\n",
        "            for (int j = 0; j < COL_B; j++)\n",
        "                printf(\"%d\\t\", c[i*COL_B+j]);\n",
        "            printf(\"\\n\");\n",
        "        }\n",
        "    cudaFree(d_a);\n",
        "    cudaFree(d_b);\n",
        "    cudaFree(d_c);\n",
        "    free(a);\n",
        "    free(b);\n",
        "    free(c);\n",
        "    return 0;\n",
        "}"
      ],
      "metadata": {
        "colab": {
          "base_uri": "https://localhost:8080/"
        },
        "id": "d4k91Q-wuOfM",
        "outputId": "95e50c72-d42c-4121-efde-160db58fbe95"
      },
      "execution_count": null,
      "outputs": [
        {
          "output_type": "stream",
          "name": "stdout",
          "text": [
            "In main function\n",
            "Matrix A:\n",
            "3\t6\t7\t5\t3\t\n",
            "5\t6\t2\t9\t1\t\n",
            "2\t7\t0\t9\t3\t\n",
            "6\t0\t6\t2\t6\t\n",
            "1\t8\t7\t9\t2\t\n",
            "0\t2\t3\t7\t5\t\n",
            "9\t2\t2\t8\t9\t\n",
            "7\t3\t6\t1\t2\t\n",
            "9\t3\t1\t9\t4\t\n",
            "7\t8\t4\t5\t0\t\n",
            "Matrix B:\n",
            "3\t6\t1\t0\t6\t3\t2\t0\t\n",
            "6\t1\t5\t5\t4\t7\t6\t5\t\n",
            "6\t9\t3\t7\t4\t5\t2\t5\t\n",
            "4\t7\t4\t4\t3\t0\t7\t8\t\n",
            "6\t8\t8\t4\t3\t1\t4\t9\t\n",
            "Matrix C:\n",
            "125\t146\t98\t111\t94\t89\t103\t132\t\n",
            "105\t125\t85\t84\t92\t68\t117\t121\t\n",
            "102\t106\t97\t83\t76\t58\t121\t134\t\n",
            "98\t152\t80\t74\t84\t54\t62\t100\t\n",
            "141\t156\t114\t133\t99\t96\t135\t165\t\n",
            "88\t118\t87\t79\t56\t34\t87\t126\t\n",
            "137\t202\t129\t92\t121\t60\t126\t165\t\n",
            "91\t122\t60\t69\t87\t74\t59\t71\t\n",
            "111\t161\t95\t74\t109\t57\t117\t128\t\n",
            "113\t121\t79\t88\t105\t97\t105\t100\t\n",
            "\n"
          ]
        }
      ]
    },
    {
      "cell_type": "markdown",
      "source": [
        "### Write a CUDA program to perform following operations:\n",
        "- Take 2 matrices A, B\n",
        "- Find the transpose TA, TB\n",
        "- Perform C = A*B, TC = TA*TB\n",
        "- Verify whether C and TC are equal or not."
      ],
      "metadata": {
        "id": "vzzvt55UvQEK"
      }
    },
    {
      "cell_type": "code",
      "source": [
        "%%cuda\n",
        "#include <stdio.h>\n",
        "#include <cuda_runtime.h>\n",
        "\n",
        "#define ROW_A 2\n",
        "#define COL_A 3\n",
        "#define ROW_B COL_A\n",
        "#define COL_B 2\n",
        "\n",
        "\n",
        "__global__ void transpose(int *input, int *output, int rows, int cols) {\n",
        "    int row = blockIdx.y * blockDim.y + threadIdx.y;\n",
        "    int col = blockIdx.x * blockDim.x + threadIdx.x;\n",
        "\n",
        "    if (row < rows && col < cols) {\n",
        "        output[col * rows + row] = input[row * cols + col];\n",
        "    }\n",
        "}\n",
        "\n",
        "\n",
        "__global__ void matrixMul(int *a, int *b, int *c, int row_a, int col_a, int col_b) {\n",
        "    int row = blockIdx.y * blockDim.y + threadIdx.y;\n",
        "    int col = blockIdx.x * blockDim.x + threadIdx.x;\n",
        "\n",
        "    if (row < row_a && col < col_b) {\n",
        "        int sum = 0;\n",
        "        for (int k = 0; k < col_a; k++) {\n",
        "            sum += a[row * col_a + k] * b[k * col_b + col];\n",
        "        }\n",
        "        c[row * col_b + col] = sum;\n",
        "    }\n",
        "}\n",
        "\n",
        "\n",
        "int main() {\n",
        "    int a[ROW_A * COL_A] = {1, 2, 3, 4, 5, 6};\n",
        "    int b[ROW_B * COL_B] = {7, 8, 9, 10, 11, 12};\n",
        "    int c[ROW_A * COL_B], tc[ROW_A * COL_B];\n",
        "    int ta[COL_A * ROW_A], tb[COL_B * ROW_B];\n",
        "\n",
        "\n",
        "    int *d_a, *d_b, *d_c, *d_ta, *d_tb, *d_tc;\n",
        "\n",
        "    cudaMalloc(&d_a, ROW_A * COL_A * sizeof(int));\n",
        "    cudaMalloc(&d_b, ROW_B * COL_B * sizeof(int));\n",
        "    cudaMalloc(&d_c, ROW_A * COL_B * sizeof(int));\n",
        "    cudaMalloc(&d_ta, COL_A * ROW_A * sizeof(int));\n",
        "    cudaMalloc(&d_tb, COL_B * ROW_B * sizeof(int));\n",
        "    cudaMalloc(&d_tc, ROW_A * COL_B * sizeof(int));\n",
        "\n",
        "    cudaMemcpy(d_a, a, ROW_A * COL_A * sizeof(int), cudaMemcpyHostToDevice);\n",
        "    cudaMemcpy(d_b, b, ROW_B * COL_B * sizeof(int), cudaMemcpyHostToDevice);\n",
        "\n",
        "    dim3 threadsPerBlock(16, 16);\n",
        "    dim3 numBlocksA((COL_A + threadsPerBlock.x - 1) / threadsPerBlock.x, (ROW_A + threadsPerBlock.y-1) / threadsPerBlock.y);\n",
        "    dim3 numBlocksB((COL_B + threadsPerBlock.x - 1) / threadsPerBlock.x, (ROW_B + threadsPerBlock.y-1) / threadsPerBlock.y);\n",
        "    dim3 numBlocksC((COL_B + threadsPerBlock.x - 1) / threadsPerBlock.x, (ROW_A + threadsPerBlock.y - 1) / threadsPerBlock.y);\n",
        "\n",
        "    transpose<<<numBlocksA, threadsPerBlock>>>(d_a, d_ta, ROW_A, COL_A);\n",
        "    transpose<<<numBlocksB, threadsPerBlock>>>(d_b, d_tb, ROW_B, COL_B);\n",
        "\n",
        "\n",
        "    matrixMul<<<numBlocksC, threadsPerBlock>>>(d_a, d_b, d_c, ROW_A, COL_A, COL_B);\n",
        "    matrixMul<<<numBlocksC, threadsPerBlock>>>(d_ta, d_tb, d_tc, COL_A, ROW_A, ROW_B);\n",
        "\n",
        "    cudaMemcpy(c, d_c, ROW_A * COL_B * sizeof(int), cudaMemcpyDeviceToHost);\n",
        "    cudaMemcpy(tc, d_tc, ROW_A * COL_B * sizeof(int), cudaMemcpyDeviceToHost);\n",
        "\n",
        "    //Verification\n",
        "    printf(\"Matrix A:\\n\");\n",
        "    for (int i = 0; i < ROW_A; i++){\n",
        "      for(int j = 0; j < COL_A; j++) {\n",
        "        printf(\"%d\\t\", a[i*COL_A+j]);\n",
        "      }\n",
        "      printf(\"\\n\");\n",
        "    }\n",
        "\n",
        "    printf(\"Matrix B:\\n\");\n",
        "    for (int i = 0; i < ROW_B; i++){\n",
        "      for(int j = 0; j < COL_B; j++) {\n",
        "        printf(\"%d\\t\", b[i*COL_B+j]);\n",
        "      }\n",
        "      printf(\"\\n\");\n",
        "    }\n",
        "\n",
        "    printf(\"Matrix C:\\n\");\n",
        "    for (int i = 0; i < ROW_A; i++){\n",
        "      for(int j = 0; j < COL_B; j++) {\n",
        "        printf(\"%d\\t\", c[i*COL_B+j]);\n",
        "      }\n",
        "      printf(\"\\n\");\n",
        "    }\n",
        "\n",
        "    printf(\"\\nMatrix TC:\\n\");\n",
        "    for(int i = 0; i < ROW_A; i++) {\n",
        "      for (int j = 0; j < COL_B; j++){\n",
        "        printf(\"%d\\t\", tc[i * COL_B + j]);\n",
        "      }\n",
        "      printf(\"\\n\");\n",
        "    }\n",
        "\n",
        "    cudaFree(d_a);\n",
        "    cudaFree(d_b);\n",
        "    cudaFree(d_c);\n",
        "    cudaFree(d_ta);\n",
        "    cudaFree(d_tb);\n",
        "    cudaFree(d_tc);\n",
        "    return 0;\n",
        "}"
      ],
      "metadata": {
        "colab": {
          "base_uri": "https://localhost:8080/"
        },
        "id": "r3MwH5n1vGfS",
        "outputId": "8e5648b1-c7ff-48e0-a49a-2c9886e3ecb2"
      },
      "execution_count": null,
      "outputs": [
        {
          "output_type": "stream",
          "name": "stdout",
          "text": [
            "Matrix A:\n",
            "1\t2\t3\t\n",
            "4\t5\t6\t\n",
            "Matrix B:\n",
            "7\t8\t\n",
            "9\t10\t\n",
            "11\t12\t\n",
            "Matrix C:\n",
            "58\t64\t\n",
            "139\t154\t\n",
            "\n",
            "Matrix TC:\n",
            "39\t49\t\n",
            "59\t54\t\n",
            "\n"
          ]
        }
      ]
    },
    {
      "cell_type": "markdown",
      "source": [
        "### Write a CUDA program to perform dot product on two vectors."
      ],
      "metadata": {
        "id": "30xuSDWk2tlO"
      }
    },
    {
      "cell_type": "code",
      "source": [
        "%%cuda\n",
        "\n",
        "#include <stdio.h>\n",
        "#include <cuda_runtime.h>\n",
        "\n",
        "#define SIZE 10\n",
        "\n",
        "__global__ void dotProduct(int *a, int *b, int *result) {\n",
        "    __shared__ int partial_sums[256]; // Shared memory for partial sums\n",
        "    int tid = threadIdx.x;\n",
        "    int i = blockIdx.x * blockDim.x + threadIdx.x;\n",
        "\n",
        "    int sum = 0;\n",
        "    if(i < SIZE) {\n",
        "        sum = a[i] * b[i];\n",
        "    }\n",
        "\n",
        "    partial_sums[tid] = sum;\n",
        "    __syncthreads(); // Synchronize threads within the block\n",
        "\n",
        "    // Perform reduction in shared memory\n",
        "    for(int s = blockDim.x / 2; s > 0; s >>= 1) {\n",
        "        if(tid < s) {\n",
        "            partial_sums[tid] += partial_sums[tid + s];\n",
        "        }\n",
        "        __syncthreads();\n",
        "    }\n",
        "\n",
        "    if (tid == 0) {\n",
        "        atomicAdd(result, partial_sums[0]);\n",
        "    }\n",
        "}\n",
        "\n",
        "\n",
        "int main() {\n",
        "    int *a, *b, result = 0;\n",
        "    int *d_a, *d_b, *d_result;\n",
        "\n",
        "    a = (int*)malloc(SIZE * sizeof(int));\n",
        "    b = (int*)malloc(SIZE * sizeof(int));\n",
        "\n",
        "    for (int i = 0; i < SIZE; i++) {\n",
        "        a[i] = i;\n",
        "        b[i] = i * 2;\n",
        "    }\n",
        "\n",
        "    cudaMalloc(&d_a, SIZE * sizeof(int));\n",
        "    cudaMalloc(&d_b, SIZE * sizeof(int));\n",
        "    cudaMalloc(&d_result, sizeof(int));\n",
        "\n",
        "    cudaMemcpy(d_a, a, SIZE * sizeof(int), cudaMemcpyHostToDevice);\n",
        "    cudaMemcpy(d_b, b, SIZE * sizeof(int), cudaMemcpyHostToDevice);\n",
        "    cudaMemset(d_result, 0, sizeof(int)); // Initialize result to 0 on the device\n",
        "\n",
        "\n",
        "    int threadsPerBlock = 256;\n",
        "    int blocksPerGrid = (SIZE + threadsPerBlock -1) / threadsPerBlock;\n",
        "    dotProduct<<<blocksPerGrid, threadsPerBlock>>>(d_a, d_b, d_result);\n",
        "\n",
        "\n",
        "    cudaMemcpy(&result, d_result, sizeof(int), cudaMemcpyDeviceToHost);\n",
        "\n",
        "    printf(\"\\nVector A:\\n\");\n",
        "    for(int i = 0; i < SIZE; i++) {\n",
        "        printf(\"%d\\t\", a[i]);\n",
        "    }\n",
        "    printf(\"\\n\");\n",
        "\n",
        "    printf(\"\\nVector B:\\n\");\n",
        "    for(int i = 0; i < SIZE; i++) {\n",
        "        printf(\"%d\\t\", b[i]);\n",
        "    }\n",
        "    printf(\"\\n\");\n",
        "\n",
        "    printf(\"\\nDot Product: %d\\n\", result);\n",
        "\n",
        "    cudaFree(d_a);\n",
        "    cudaFree(d_b);\n",
        "    cudaFree(d_result);\n",
        "    free(a);\n",
        "    free(b);\n",
        "\n",
        "    return 0;\n",
        "}"
      ],
      "metadata": {
        "colab": {
          "base_uri": "https://localhost:8080/"
        },
        "id": "_owezfKCwFom",
        "outputId": "286cb63f-3437-4889-e6ca-0d05b4b1b7b1"
      },
      "execution_count": null,
      "outputs": [
        {
          "output_type": "stream",
          "name": "stdout",
          "text": [
            "\n",
            "Vector A:\n",
            "0\t1\t2\t3\t4\t5\t6\t7\t8\t9\t\n",
            "\n",
            "Vector B:\n",
            "0\t2\t4\t6\t8\t10\t12\t14\t16\t18\t\n",
            "\n",
            "Dot Product: 570\n",
            "\n"
          ]
        }
      ]
    },
    {
      "cell_type": "code",
      "source": [],
      "metadata": {
        "id": "sThUT9q527sb"
      },
      "execution_count": null,
      "outputs": []
    }
  ]
}